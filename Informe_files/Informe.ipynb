{
 "cells": [
  {
   "cell_type": "raw",
   "id": "da2496b7187739b9",
   "metadata": {},
   "source": [
    "---\n",
    "title: \"Informe Proyecto Bimestral - BFS y DFS\"\n",
    "author: \"Anthony Contreras y Yasid Jimenez\"\n",
    "lang: es\n",
    "format:\n",
    "  html:\n",
    "    toc: true\n",
    "    toc-title: \"Tabla de Contenidos\"\n",
    "execute:\n",
    "  echo: true\n",
    "  error: false\n",
    "  warning: false\n",
    "jupyter: python3\n",
    "---\n"
   ]
  },
  {
   "cell_type": "markdown",
   "id": "af8c2258",
   "metadata": {},
   "source": [
    "# ESCUELA POLITÉCNICA NACIONAL\n",
    "\n",
    "## Proyecto Bimestral - Implementación de BFS y DFS\n",
    "\n",
    "### **1. Objetivos**\n",
    "#### ***1.1 Objetivo General***\n",
    "Implemetar los algoritmos BFS y DFS para entender cómo la información viaja en redes sociales, buscando las rutas más rápidas y explorando conexiones más profundas entre usuarios.\n",
    "#### ***1.2 Objetivos Específicos***\n",
    "1. Demostrar el uso de BFS para encontrar la ruta más corta y DFS para explorar las conexiones más profundas en un caso práctico de propagación de mensajes entre usuarios no conectados directamente.\n",
    "2. Implementar un grafo que represente las conexiones entre usuarios en una red social para modelar el envío de un mensaje desde el emisor 'Start' hasta el receptor 'Finish'.\n",
    "3. Desarrollar los algoritmos en Python para que el programa lea un archivo CSV que contenga la información de las conexiones de la red social y calcule las rutas de propagación entre los usuarios\n",
    "\n",
    "### **2. Introducción**\n",
    "Las redes sociales están compuestas por usuarios conectados a través de relaciones, creando una estructura compleja de interacciones. Este proyecto explora cómo un mensaje se propaga entre los usuarios mediante los algoritmos de búsqueda en grafos BFS y DFS. Se representará la red social como un grafo, utilizando el paradigma de programación orientada a objetos para la implementación y un ADT para estructurar el grafo de manera correcta y completa. A través de estos algoritmos, se analizarán las rutas más cortas y más profundas por donde el mensaje puede llegar a su destinatario. Además, se utilizarán herramientas para visualizar la red y entender cómo fluye la información a través de las conexiones entre los usuarios.\n",
    "\n",
    "### **3. Desarrollo**\n",
    "En el campo de la teoría de grafos, se utilizan estructuras matemáticas que permiten modelar relaciones entre elementos mediante nodos y aristas. Los grafos se emplean en una amplia variedad de aplicaciones, como redes sociales, rutas de transporte, análisis de conexiones de comunicación, entre otras. Para entender cómo se propaga la información dentro de estas redes, los algoritmos de búsqueda juegan un papel fundamental, especialmente cuando se trata de encontrar rutas entre nodos.\n",
    "En las siguientes secciones, exploraremos el concepto de grafo, los pasos y características de BFS y DFS, así como las ventajas de cada uno al momento de abordar problemas de propagación de información en redes sociales.\n",
    "#### ***3.1 Grafo***\n",
    "Un grafo es una estructura que conecta nodos mediante aristas o enlaces. Estos grafos pueden ser dirigidos, donde las conexiones tienen una dirección específica entre los nodos, o no dirigidos, donde las conexiones son bidireccionales. Genralmente los grafos se utilizan para representar redes como sistemas de transporte, redes sociales o comunicaciones."
   ]
  },
  {
   "cell_type": "code",
   "execution_count": 3,
   "id": "7f9dadc0",
   "metadata": {},
   "outputs": [],
   "source": [
    "def __init__(self):\n",
    "    self.nodos = {}  # Diccionario de nodos\n",
    "    self.aristas = []  # Lista de aristas\n",
    "\n",
    "def agregar_nodo(self, nombre):\n",
    "    \"\"\"Agrega un nodo al grafo si no existe\"\"\"\n",
    "    if nombre not in self.nodos:\n",
    "        self.nodos[nombre] = Nodo(nombre)\n",
    "\n",
    "def agregar_arista(self, inicio, fin):\n",
    "    \"\"\"Agrega una arista entre dos nodos\"\"\"\n",
    "    if inicio in self.nodos and fin in self.nodos:\n",
    "        nodo_inicio = self.nodos[inicio]\n",
    "        nodo_fin = self.nodos[fin]\n",
    "        nodo_inicio.agregar_vecino(nodo_fin)  # Conecta los nodos\n",
    "        self.aristas.append(Arista(nodo_inicio, nodo_fin))  # Crea y agrega la arista\n",
    "    else:\n",
    "        print(f\"Uno o ambos nodos {inicio} o {fin} no existen.\")"
   ]
  },
  {
   "cell_type": "markdown",
   "id": "591c0cff",
   "metadata": {},
   "source": [
    "Este código define métodos para crear y gestionar un grafo, que es una estructura formada por nodos y aristas. El método `agregar_nodo` agrega un nuevo nodo al grafo si no existe, mientras que `agregar_arista` conecta dos nodos existentes creando una arista entre ellos. Si intentas agregar una arista entre nodos que no existen, el sistema te avisará con un mensaje de error. "
   ]
  },
  {
   "cell_type": "markdown",
   "id": "16dd6563",
   "metadata": {},
   "source": [
    "#### ***3.2 Breadth-First Search (BFS)***\n",
    "El algoritmo BFS, que tiene una búsqueda en anchura, es un método de búsqueda que explora los nodos de un grafo nivel por nivel, comenzando desde el nodo inicial y avanzando hacia los nodos más cercanos primero, antes de explorar los nodos más distantes. Este algoritmo garantiza encontrar el camino más corto entre dos nodos en un grafo no ponderado, ya que recorre las conexiones en orden de proximidad. Para su implementación, se utiliza una estructura de datos llamada cola.\n",
    "*Pasos del algoritmo BFS*:\n",
    "1. Se inicia en el nodo de partida.\n",
    "2. Se exploran todos los nodos vecinos y se colocan en una cola.\n",
    "3. Se procesa el primer nodo de la cola, explorando sus vecinos, y se continúa hasta alcanzar el nodo destino o explorar todos los nodos.\n",
    "\n",
    "*Ventajas*:\n",
    "- Garantiza el camino más corto en grafos no ponderados.\n",
    "- Es adecuado para grafos donde la distancia entre los nodos es importante."
   ]
  },
  {
   "cell_type": "code",
   "execution_count": 2,
   "id": "6d556ae3",
   "metadata": {},
   "outputs": [],
   "source": [
    "def bfs(self, start):\n",
    "        \"\"\"Realiza una búsqueda en amplitud (BFS) comenzando desde un nodo\"\"\"\n",
    "        if start not in self.nodos:\n",
    "            print(f\"El nodo {start} no existe en el grafo.\")\n",
    "            return []\n",
    "\n",
    "        visitados = set()  # Conjunto de nodos visitados\n",
    "        cola = [self.nodos[start]]  # Cola para procesar los nodos en orden de nivel\n",
    "        camino = []  # Lista para almacenar el camino\n",
    "\n",
    "        while cola:\n",
    "            nodo_actual = cola.pop(0)\n",
    "            if nodo_actual.nombre not in visitados:\n",
    "                camino.append(nodo_actual.nombre)  # Procesa el nodo\n",
    "                visitados.add(nodo_actual.nombre)  # Marca el nodo como visitado\n",
    "                # Agrega los vecinos no visitados a la cola\n",
    "                for vecino in nodo_actual.vecino:\n",
    "                    if vecino.nombre not in visitados:\n",
    "                        cola.append(vecino)\n",
    "\n",
    "        return camino"
   ]
  },
  {
   "cell_type": "markdown",
   "id": "7b5a164a",
   "metadata": {},
   "source": [
    "Este código implementa el algoritmo de BFS para explorar un grafo comenzando desde un nodo específico. Primero, verifica si el nodo de inicio existe en el grafo. Luego, utiliza una cola para procesar los nodos nivel por nivel, comenzando desde el nodo inicial. A medida que procesa cada nodo, lo marca como visitado y agrega sus vecinos no visitados a la cola para ser procesados en el siguiente ciclo. El proceso continúa hasta que todos los nodos alcanzables desde el nodo de inicio han sido visitados. Finalmente, devuelve una lista con el orden en que los nodos fueron visitados."
   ]
  },
  {
   "cell_type": "markdown",
   "id": "efe76d73",
   "metadata": {},
   "source": [
    "#### ***3.3 Depth-First Search (DFS)***\n",
    "El algoritmo DFS, que tiene una busqueda por profundidad, es otro algoritmo de búsqueda que explora los nodos de un grafo siguiendo una ruta desde el nodo fuente hacia el nodo más profundo posible antes de retroceder y explorar otras ramas del grafo. Este algoritmo utiliza una estructura de datos pila o recursión.\n",
    "*Pasos del algoritmo DFS*:\n",
    "1. Se comienza en el nodo de partida.\n",
    "2. Se explora recursivamente cada vecino del nodo actual, moviéndose hacia los nodos más profundos.\n",
    "3. Si no se puede avanzar más, se retrocede y se exploran otros vecinos.\n",
    "\n",
    "*Ventajas*:\n",
    "- Puede ser más eficiente en ciertos casos cuando no es necesario encontrar el camino más corto.\n",
    "- Es útil en problemas como el recorrido de componentes conexas en un grafo.\n"
   ]
  },
  {
   "cell_type": "code",
   "execution_count": null,
   "id": "28277ce3",
   "metadata": {},
   "outputs": [],
   "source": [
    "def dfs(self, start, end):\n",
    "        \"\"\"Realiza una búsqueda en profundidad (DFS) recursiva comenzando desde un nodo\"\"\"\n",
    "        if start not in self.nodos:\n",
    "            print(f\"El nodo {start} no existe en el grafo.\")\n",
    "            return []\n",
    "\n",
    "        visitados = set()  # Conjunto de nodos visitados\n",
    "        camino = []  # Lista para almacenar el camino\n",
    "        self._dfs_recursivo(self.nodos[start], end, visitados, camino)\n",
    "        return camino\n",
    "\n",
    "def _dfs_recursivo(self, nodo, end, visitados, camino):\n",
    "        \"\"\"Método recursivo auxiliar para DFS\"\"\"\n",
    "        if nodo.nombre in visitados:\n",
    "            return False\n",
    "\n",
    "        visitados.add(nodo.nombre)  # Marca el nodo como visitado\n",
    "        camino.append(nodo.nombre)  # Agrega el nodo al camino\n",
    "\n",
    "        if nodo.nombre == end:  # Si hemos llegado al nodo final\n",
    "            return True\n",
    "\n",
    "        # Recursivamente visita los vecinos no visitados\n",
    "        for vecino in nodo.vecino:\n",
    "            if self._dfs_recursivo(vecino, end, visitados, camino):\n",
    "                return True\n",
    "\n",
    "        camino.pop()  # Si no encontramos el nodo final, retrocedemos (backtrack)\n",
    "        return False"
   ]
  },
  {
   "cell_type": "markdown",
   "id": "a76bd0c9",
   "metadata": {},
   "source": [
    "Este código implementa el algoritmo de DFS para explorar un grafo de manera recursiva, desde un nodo inicial hasta un nodo final. Primero, verifica si el nodo de inicio existe en el grafo. Luego, usa un método recursivo `_dfs_recursivo` para explorar los nodos profundamente, es decir, sigue un camino hasta el final antes de retroceder (backtrack) si no encuentra el nodo destino. A medida que visita cada nodo, lo marca como visitado y lo agrega al camino. Si llega al nodo de destino, devuelve el camino encontrado. Si no lo encuentra, retrocede y prueba otro camino. El proceso continúa hasta llegar al nodo final o agotar todas las opciones."
   ]
  },
  {
   "cell_type": "markdown",
   "id": "b5d32a76",
   "metadata": {},
   "source": [
    "#### ***3.4 Carga del grafo desde un archivo CSV***\n",
    "Un archivo CSV es un tipo de archivo de texto que almacena datos en forma de tablas, donde cada línea representa una fila y los valores dentro de cada fila están separados por comas. Este formato es comúnmente utilizado para almacenar datos tabulares, como listas, bases de datos o registros de cualquier tipo."
   ]
  },
  {
   "cell_type": "code",
   "execution_count": 4,
   "id": "d0b9319a",
   "metadata": {},
   "outputs": [],
   "source": [
    "def cargar_desde_csv(self, archivo_csv):\n",
    "    \"\"\"Carga el grafo desde un archivo CSV\"\"\"\n",
    "    try:\n",
    "        with open(archivo_csv, mode='r', newline='') as file:\n",
    "            reader = csv.reader(file)\n",
    "            next(reader)  # Salta la cabecera\n",
    "            for row in reader:\n",
    "                nodo_inicio, nodo_fin = row\n",
    "                self.agregar_nodo(nodo_inicio)\n",
    "                self.agregar_nodo(nodo_fin)\n",
    "                self.agregar_arista(nodo_inicio, nodo_fin)\n",
    "    except FileNotFoundError:\n",
    "        print(f\"Error: El archivo {archivo_csv} no se encuentra.\")\n",
    "    except Exception as e:\n",
    "        print(f\"Ocurrió un error al procesar el archivo: {e}\")"
   ]
  },
  {
   "cell_type": "markdown",
   "id": "ea80fa34",
   "metadata": {},
   "source": [
    "Este código implementa un método para cargar un grafo desde un archivo CSV. El archivo CSV debe tener una lista de conexiones entre nodos, donde cada fila contiene dos nodos que están conectados por una arista. El proceso comienza abriendo el archivo CSV en modo de lectura y luego utiliza el módulo csv para leerlo. Salta la cabecera del archivo y luego, para cada fila, agrega los nodos y la arista correspondiente al grafo. Si el archivo no se encuentra, muestra un mensaje de error. También maneja otros posibles errores durante la carga del archivo. \n",
    "#### ***3.5 Programación orientada a objetos (POO)***\n",
    "En este proyecto, se utiliza el POO para representar una red social mediante un grafo. El grafo es la estructura principal, y está compuesto por tres clases fundamentales: **Grafo**, **Nodo** y **Arista**.\n",
    "\n",
    "- **Clase Grafo**: Es la estructura que contiene los nodos y las aristas, gestionando la creación y conexión de los mismos. Adicional, dentro del mismo se encuentra los algoritmos BFS y DFS\n",
    "\n",
    "- **Clase Nodo**: Representa a un usuario de la red social. Cada nodo tiene un nombre o identificador único y puede estar conectado a otros nodos a través de aristas."
   ]
  },
  {
   "cell_type": "code",
   "execution_count": 6,
   "id": "34c25b60",
   "metadata": {},
   "outputs": [],
   "source": [
    "class Nodo:\n",
    "    def __init__(self, nombre):\n",
    "        self.nombre = nombre\n",
    "        self.vecino = []\n",
    "\n",
    "    def agregar_vecino(self, vecino):\n",
    "        self.vecino.append(vecino)"
   ]
  },
  {
   "cell_type": "markdown",
   "id": "85c76359",
   "metadata": {},
   "source": [
    "- **Clase Arista**: Representa la conexión entre dos nodos. En el contexto de la red social, una arista podría reflejar una relación de amistad o seguimiento entre dos usuarios."
   ]
  },
  {
   "cell_type": "code",
   "execution_count": 5,
   "id": "815d567c",
   "metadata": {},
   "outputs": [],
   "source": [
    "class Arista:\n",
    "    def __init__(self, start, fin):\n",
    "        self.start = start\n",
    "        self.fin = fin"
   ]
  },
  {
   "cell_type": "markdown",
   "id": "c116e313",
   "metadata": {},
   "source": [
    "#### ***3.6 Descripción del caso real***\n",
    "**Caso:** Propagación de un mensaje en una red social\n",
    "\n",
    "Imagina una red social en la que los usuarios se conectan entre sí a través de \"amistades\" o \"seguidores\". Cada usuario está representado por un nodo, y las conexiones entre ellos son las aristas del grafo.\n",
    "\n",
    "**Contexto:**\n",
    "\n",
    "Una persona 'Start' (emisor) quiere enviar un mensaje a una persona 'Finish' (receptor) en la red social, pero no están directamente conectados. 'Start' utilizará sus conexiones para transmitir el mensaje a 'Finish'. El objetivo es simular cómo este mensaje se propaga en la red utilizando los algoritmos de búsqueda en grafos BFS y DFS.\n",
    "#### ***3.5 Ejecucion del proyecto***\n"
   ]
  },
  {
   "cell_type": "markdown",
   "id": "9c176d55",
   "metadata": {},
   "source": [
    "### **4. Conclusiones**\n",
    "En conclusión, este proyecto ayuda a entender cómo un mensaje se propaga dentro de una red social usando grafos y dos algoritmos de búsqueda: BFS y DFS. Los usuarios se representan como nodos y las conexiones entre ellos como aristas en un grafo. Con estos algoritmos, podemos ver cómo un mensaje puede llegar de un usuario a otro, ya sea siguiendo la ruta más corta con BFS o explorando más profundamente con DFS. Además, el proyecto permite cargar datos desde un archivo CSV y visualizar la red de forma sencilla, lo que facilita entender cómo fluye la información entre los usuarios.\n",
    "\n",
    "### **5. Referencias bibliográficas**\n",
    "\n",
    "### **6. Declaracion del uso de IA**"
   ]
  }
 ],
 "metadata": {
  "kernelspec": {
   "display_name": "Python 3",
   "language": "python",
   "name": "python3"
  },
  "language_info": {
   "codemirror_mode": {
    "name": "ipython",
    "version": 3
   },
   "file_extension": ".py",
   "mimetype": "text/x-python",
   "name": "python",
   "nbconvert_exporter": "python",
   "pygments_lexer": "ipython3",
   "version": "3.13.0"
  }
 },
 "nbformat": 4,
 "nbformat_minor": 5
}
